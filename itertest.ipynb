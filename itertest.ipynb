{
 "cells": [
  {
   "cell_type": "code",
   "execution_count": 1,
   "metadata": {},
   "outputs": [
    {
     "name": "stdout",
     "output_type": "stream",
     "text": [
      "<class 'int'>\n"
     ]
    }
   ],
   "source": [
    "a=97687657537653765439876597606987069587647654756373754386549765987650860986\n",
    "print(type(a))"
   ]
  },
  {
   "cell_type": "code",
   "execution_count": 1,
   "metadata": {},
   "outputs": [
    {
     "data": {
      "text/plain": [
       "[0]"
      ]
     },
     "execution_count": 1,
     "metadata": {},
     "output_type": "execute_result"
    }
   ],
   "source": [
    "import GPUtil\n",
    "GPUtil.getAvailable()\n"
   ]
  },
  {
   "cell_type": "code",
   "execution_count": 27,
   "metadata": {},
   "outputs": [
    {
     "name": "stdout",
     "output_type": "stream",
     "text": [
      "p (1, 2) False\n",
      "p (1, 4) False\n",
      "p (1, 6) False\n",
      "p (1, 8) False\n",
      "p (3, 2) False\n",
      "p (3, 4) True\n",
      "p (3, 6) True\n",
      "p (3, 8) True\n",
      "p (5, 2) False\n",
      "p (5, 4) True\n",
      "p (5, 6) True\n",
      "p (5, 8) True\n",
      "p (7, 2) True\n",
      "p (7, 4) True\n",
      "p (7, 6) True\n",
      "p (7, 8) True\n",
      "f (1, 2)\n",
      "f (1, 4)\n",
      "f (1, 6)\n",
      "f (1, 8)\n",
      "f (3, 2)\n",
      "f (5, 2)\n"
     ]
    }
   ],
   "source": [
    "import itertools\n",
    "def pred(a):\n",
    "    #print('predprod')\n",
    "    return (a[0]*a[1])>10\n",
    "\n",
    "product1=itertools.product([1,3,5,7],[2,4,6,8])\n",
    "for prod in product1:\n",
    "    print('p',prod,pred(prod))\n",
    "product2=itertools.product([1,3,5,7],[2,4,6,8])\n",
    "filtered=itertools.filterfalse(pred,product2)\n",
    "for prod in filtered:\n",
    "    print('f',prod)"
   ]
  },
  {
   "cell_type": "code",
   "execution_count": 36,
   "metadata": {},
   "outputs": [
    {
     "name": "stdout",
     "output_type": "stream",
     "text": [
      "32 4 8.0\n",
      "243 22 11.045454545454545\n",
      "125 31 4.032258064516129\n",
      "49 16 3.0625\n",
      "2601 272 9.5625\n",
      "132651 9248 14.34375\n"
     ]
    }
   ],
   "source": [
    "\n",
    "\n",
    "def GCD(a, b):\n",
    "    if a == 0: \n",
    "        return b, 0, 1\n",
    "    gcd, s, t = GCD(b%a, a)\n",
    "    y1 = s \n",
    "    x1 = t - (b//a) * s\n",
    "    return gcd, x1, y1\n",
    "\n",
    "def moddiff2(divisor,mod):\n",
    "    #print(prime,mod)\n",
    "    if mod==0:\n",
    "        #print('mod is zero, moddiff of a factor impossible')\n",
    "        return([])\n",
    "    toreturn=[]\n",
    "    #difflist=list(range(0,divisor*2))\n",
    "    #print(difflist)\n",
    "    for diffs in range(0,(divisor+1)//2):\n",
    "        #print('aves',aves)\n",
    "        for aves in range(0,divisor):\n",
    "            #print('diffs',diffs)\n",
    "            if abs(GCD(aves-diffs,divisor*2)[0])==1 and abs(GCD(aves+diffs,divisor*2)[0])==1 and (aves**2-diffs**2)%divisor==mod:\n",
    "                toreturn.append(diffs)\n",
    "                if diffs!=0:\n",
    "                    toreturn.append(divisor-diffs)\n",
    "                break\n",
    "            '''\n",
    "            if diffs not in toreturn:\n",
    "                if aves%2!=diffs%2:\n",
    "                    if (aves**2-diffs**2)%divisor==mod:\n",
    "                        toreturn.append(diffs)\n",
    "                        difflist.remove(diffs)\n",
    "                        #print('difflist',difflist)\n",
    "                        #print('toreturn',toreturn)\n",
    "            '''\n",
    "    return toreturn  \n",
    "p=1093\n",
    "q=1223\n",
    "d=p*q    \n",
    "primes=[2,3]\n",
    "powers=[1,2,3,4,5,6,7]\n",
    "moddiffdict=dict()\n",
    "#print(GCD(-2,25))\n",
    "'''\n",
    "for prime in primes:\n",
    "    print('prime',prime)\n",
    "    for power in powers:\n",
    "        print('power',power)\n",
    "        #for mod in range(1,prime**power):\n",
    "            #if abs(GCD(prime**power,mod)[0])==1:\n",
    "        moddiffdict[(prime,power,d%(prime**power))]=len(moddiff2(prime**power,d%(prime**power)))/(2*prime**power)\n",
    "'''\n",
    "for prod in [2**5,3**5,5**3,7**2,51**2,51**3]:\n",
    "    moddiffdict[prod]=dict()\n",
    "    moddiffdict[prod]['moddiff']=moddiff2(prod,d%prod)\n",
    "    \n",
    "for x in moddiffdict:\n",
    "    print(x,len(moddiffdict[x]['moddiff']),x/len(moddiffdict[x]['moddiff']))\n"
   ]
  }
 ],
 "metadata": {
  "kernelspec": {
   "display_name": "Python 3",
   "language": "python",
   "name": "python3"
  },
  "language_info": {
   "codemirror_mode": {
    "name": "ipython",
    "version": 3
   },
   "file_extension": ".py",
   "mimetype": "text/x-python",
   "name": "python",
   "nbconvert_exporter": "python",
   "pygments_lexer": "ipython3",
   "version": "3.10.2"
  }
 },
 "nbformat": 4,
 "nbformat_minor": 2
}
