{
 "cells": [
  {
   "cell_type": "code",
   "execution_count": 1,
   "metadata": {},
   "outputs": [
    {
     "name": "stdout",
     "output_type": "stream",
     "text": [
      "<class 'int'>\n"
     ]
    }
   ],
   "source": [
    "a=97687657537653765439876597606987069587647654756373754386549765987650860986\n",
    "print(type(a))"
   ]
  },
  {
   "cell_type": "code",
   "execution_count": 1,
   "metadata": {},
   "outputs": [
    {
     "data": {
      "text/plain": [
       "[0]"
      ]
     },
     "execution_count": 1,
     "metadata": {},
     "output_type": "execute_result"
    }
   ],
   "source": [
    "import GPUtil\n",
    "GPUtil.getAvailable()\n"
   ]
  },
  {
   "cell_type": "code",
   "execution_count": 27,
   "metadata": {},
   "outputs": [
    {
     "name": "stdout",
     "output_type": "stream",
     "text": [
      "p (1, 2) False\n",
      "p (1, 4) False\n",
      "p (1, 6) False\n",
      "p (1, 8) False\n",
      "p (3, 2) False\n",
      "p (3, 4) True\n",
      "p (3, 6) True\n",
      "p (3, 8) True\n",
      "p (5, 2) False\n",
      "p (5, 4) True\n",
      "p (5, 6) True\n",
      "p (5, 8) True\n",
      "p (7, 2) True\n",
      "p (7, 4) True\n",
      "p (7, 6) True\n",
      "p (7, 8) True\n",
      "f (1, 2)\n",
      "f (1, 4)\n",
      "f (1, 6)\n",
      "f (1, 8)\n",
      "f (3, 2)\n",
      "f (5, 2)\n"
     ]
    }
   ],
   "source": [
    "import itertools\n",
    "def pred(a):\n",
    "    #print('predprod')\n",
    "    return (a[0]*a[1])>10\n",
    "\n",
    "product1=itertools.product([1,3,5,7],[2,4,6,8])\n",
    "for prod in product1:\n",
    "    print('p',prod,pred(prod))\n",
    "product2=itertools.product([1,3,5,7],[2,4,6,8])\n",
    "filtered=itertools.filterfalse(pred,product2)\n",
    "for prod in filtered:\n",
    "    print('f',prod)"
   ]
  },
  {
   "cell_type": "code",
   "execution_count": 35,
   "metadata": {},
   "outputs": [
    {
     "name": "stdout",
     "output_type": "stream",
     "text": [
      "(51, 2) 272 2601 [2, 2599, 16, 2585, 20, 2581, 25, 2576, 43, 2558, 52, 2549, 65, 2536, 70, 2531, 83, 2518, 88, 2513, 101, 2500, 110, 2491, 128, 2473, 133, 2468, 137, 2464, 151, 2450, 155, 2446, 169, 2432, 173, 2428, 178, 2423, 196, 2405, 205, 2396, 218, 2383, 223, 2378, 236, 2365, 241, 2360, 254, 2347, 263, 2338, 281, 2320, 286, 2315, 290, 2311, 304, 2297, 308, 2293, 322, 2279, 326, 2275, 331, 2270, 349, 2252, 358, 2243, 371, 2230, 376, 2225, 389, 2212, 394, 2207, 407, 2194, 416, 2185, 434, 2167, 439, 2162, 443, 2158, 457, 2144, 461, 2140, 475, 2126, 479, 2122, 484, 2117, 502, 2099, 511, 2090, 524, 2077, 529, 2072, 542, 2059, 547, 2054, 560, 2041, 569, 2032, 587, 2014, 592, 2009, 596, 2005, 610, 1991, 614, 1987, 628, 1973, 632, 1969, 637, 1964, 655, 1946, 664, 1937, 677, 1924, 682, 1919, 695, 1906, 700, 1901, 713, 1888, 722, 1879, 740, 1861, 745, 1856, 749, 1852, 763, 1838, 767, 1834, 781, 1820, 785, 1816, 790, 1811, 808, 1793, 817, 1784, 830, 1771, 835, 1766, 848, 1753, 853, 1748, 866, 1735, 875, 1726, 893, 1708, 898, 1703, 902, 1699, 916, 1685, 920, 1681, 934, 1667, 938, 1663, 943, 1658, 961, 1640, 970, 1631, 983, 1618, 988, 1613, 1001, 1600, 1006, 1595, 1019, 1582, 1028, 1573, 1046, 1555, 1051, 1550, 1055, 1546, 1069, 1532, 1073, 1528, 1087, 1514, 1091, 1510, 1096, 1505, 1114, 1487, 1123, 1478, 1136, 1465, 1141, 1460, 1154, 1447, 1159, 1442, 1172, 1429, 1181, 1420, 1199, 1402, 1204, 1397, 1208, 1393, 1222, 1379, 1226, 1375, 1240, 1361, 1244, 1357, 1249, 1352, 1267, 1334, 1276, 1325, 1289, 1312, 1294, 1307] 2426\n"
     ]
    }
   ],
   "source": [
    "\n",
    "\n",
    "def GCD(a, b):\n",
    "    if a == 0: \n",
    "        return b, 0, 1\n",
    "    gcd, s, t = GCD(b%a, a)\n",
    "    y1 = s \n",
    "    x1 = t - (b//a) * s\n",
    "    return gcd, x1, y1\n",
    "\n",
    "def moddiff2(base, power,mod):\n",
    "    #print(prime,mod)\n",
    "    divisor=base**power\n",
    "    if mod==0:\n",
    "        #print('mod is zero, moddiff of a factor impossible')\n",
    "        return([])\n",
    "    toreturn=[]\n",
    "    #difflist=list(range(0,divisor*2))\n",
    "    #print(difflist)\n",
    "    for diffs in range(0,(divisor+1)//2):\n",
    "        #print('diffs',diffs)\n",
    "        for aves in range(0,divisor):\n",
    "            #print('aves',aves)\n",
    "            #print(aves,diffs,aves**2,diffs**2,(aves**2-diffs**2),(aves**2-diffs**2)%divisor,divisor,mod)\n",
    "            if (aves-diffs)%base!=0 and (aves+diffs)%base!=0 and (aves**2-diffs**2)%divisor==mod:\n",
    "                toreturn.append(diffs)\n",
    "                if diffs!=0:\n",
    "                    toreturn.append(divisor-diffs)\n",
    "                #print(diffs,divisor-diffs)\n",
    "                break\n",
    "            '''\n",
    "            if diffs not in toreturn:\n",
    "                if aves%2!=diffs%2:\n",
    "                    if (aves**2-diffs**2)%divisor==mod:\n",
    "                        toreturn.append(diffs)\n",
    "                        difflist.remove(diffs)\n",
    "                        #print('difflist',difflist)\n",
    "                        #print('toreturn',toreturn)\n",
    "            '''\n",
    "    return toreturn  \n",
    "p=1093\n",
    "q=1223\n",
    "d=p*q    \n",
    "primes=[2,3]\n",
    "powers=[1,2,3,4,5,6,7]\n",
    "moddiffdict=dict()\n",
    "#print(GCD(-2,25))\n",
    "'''\n",
    "for prime in primes:\n",
    "    print('prime',prime)\n",
    "    for power in powers:\n",
    "        print('power',power)\n",
    "        #for mod in range(1,prime**power):\n",
    "            #if abs(GCD(prime**power,mod)[0])==1:\n",
    "        moddiffdict[(prime,power,d%(prime**power))]=len(moddiff2(prime**power,d%(prime**power)))/(2*prime**power)\n",
    "'''\n",
    "for prod in [(51,2)]:\n",
    "    moddiffdict[prod]=dict()\n",
    "    moddiffdict[prod]['moddiff']=moddiff2(prod[0],prod[1],d%prod[0]**prod[1])\n",
    "    moddiffdict[prod]['mod']=d%prod[0]**prod[1]\n",
    "    \n",
    "    \n",
    "for x in moddiffdict:\n",
    "    print(x,len(moddiffdict[x]['moddiff']),prod[0]**prod[1],moddiffdict[x]['moddiff'],moddiffdict[x]['mod'])\n"
   ]
  }
 ],
 "metadata": {
  "kernelspec": {
   "display_name": "Python 3",
   "language": "python",
   "name": "python3"
  },
  "language_info": {
   "codemirror_mode": {
    "name": "ipython",
    "version": 3
   },
   "file_extension": ".py",
   "mimetype": "text/x-python",
   "name": "python",
   "nbconvert_exporter": "python",
   "pygments_lexer": "ipython3",
   "version": "3.9.18"
  }
 },
 "nbformat": 4,
 "nbformat_minor": 2
}
