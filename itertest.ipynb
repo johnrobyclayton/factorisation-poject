{
 "cells": [
  {
   "cell_type": "code",
   "execution_count": 1,
   "metadata": {},
   "outputs": [
    {
     "name": "stdout",
     "output_type": "stream",
     "text": [
      "<class 'int'>\n"
     ]
    }
   ],
   "source": [
    "a=97687657537653765439876597606987069587647654756373754386549765987650860986\n",
    "print(type(a))"
   ]
  },
  {
   "cell_type": "code",
   "execution_count": 1,
   "metadata": {},
   "outputs": [
    {
     "data": {
      "text/plain": [
       "[0]"
      ]
     },
     "execution_count": 1,
     "metadata": {},
     "output_type": "execute_result"
    }
   ],
   "source": [
    "import GPUtil\n",
    "GPUtil.getAvailable()\n"
   ]
  },
  {
   "cell_type": "code",
   "execution_count": 27,
   "metadata": {},
   "outputs": [
    {
     "name": "stdout",
     "output_type": "stream",
     "text": [
      "p (1, 2) False\n",
      "p (1, 4) False\n",
      "p (1, 6) False\n",
      "p (1, 8) False\n",
      "p (3, 2) False\n",
      "p (3, 4) True\n",
      "p (3, 6) True\n",
      "p (3, 8) True\n",
      "p (5, 2) False\n",
      "p (5, 4) True\n",
      "p (5, 6) True\n",
      "p (5, 8) True\n",
      "p (7, 2) True\n",
      "p (7, 4) True\n",
      "p (7, 6) True\n",
      "p (7, 8) True\n",
      "f (1, 2)\n",
      "f (1, 4)\n",
      "f (1, 6)\n",
      "f (1, 8)\n",
      "f (3, 2)\n",
      "f (5, 2)\n"
     ]
    }
   ],
   "source": [
    "import itertools\n",
    "def pred(a):\n",
    "    #print('predprod')\n",
    "    return (a[0]*a[1])>10\n",
    "\n",
    "product1=itertools.product([1,3,5,7],[2,4,6,8])\n",
    "for prod in product1:\n",
    "    print('p',prod,pred(prod))\n",
    "product2=itertools.product([1,3,5,7],[2,4,6,8])\n",
    "filtered=itertools.filterfalse(pred,product2)\n",
    "for prod in filtered:\n",
    "    print('f',prod)"
   ]
  }
 ],
 "metadata": {
  "kernelspec": {
   "display_name": "Python 3",
   "language": "python",
   "name": "python3"
  },
  "language_info": {
   "codemirror_mode": {
    "name": "ipython",
    "version": 3
   },
   "file_extension": ".py",
   "mimetype": "text/x-python",
   "name": "python",
   "nbconvert_exporter": "python",
   "pygments_lexer": "ipython3",
   "version": "3.9.18"
  }
 },
 "nbformat": 4,
 "nbformat_minor": 2
}
