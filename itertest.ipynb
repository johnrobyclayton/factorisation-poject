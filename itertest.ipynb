{
 "cells": [
  {
   "cell_type": "code",
   "execution_count": 1,
   "metadata": {},
   "outputs": [
    {
     "name": "stdout",
     "output_type": "stream",
     "text": [
      "<class 'int'>\n"
     ]
    }
   ],
   "source": [
    "a=97687657537653765439876597606987069587647654756373754386549765987650860986\n",
    "print(type(a))"
   ]
  },
  {
   "cell_type": "code",
   "execution_count": 1,
   "metadata": {},
   "outputs": [
    {
     "data": {
      "text/plain": [
       "[0]"
      ]
     },
     "execution_count": 1,
     "metadata": {},
     "output_type": "execute_result"
    }
   ],
   "source": [
    "import GPUtil\n",
    "GPUtil.getAvailable()\n"
   ]
  },
  {
   "cell_type": "code",
   "execution_count": 27,
   "metadata": {},
   "outputs": [
    {
     "name": "stdout",
     "output_type": "stream",
     "text": [
      "p (1, 2) False\n",
      "p (1, 4) False\n",
      "p (1, 6) False\n",
      "p (1, 8) False\n",
      "p (3, 2) False\n",
      "p (3, 4) True\n",
      "p (3, 6) True\n",
      "p (3, 8) True\n",
      "p (5, 2) False\n",
      "p (5, 4) True\n",
      "p (5, 6) True\n",
      "p (5, 8) True\n",
      "p (7, 2) True\n",
      "p (7, 4) True\n",
      "p (7, 6) True\n",
      "p (7, 8) True\n",
      "f (1, 2)\n",
      "f (1, 4)\n",
      "f (1, 6)\n",
      "f (1, 8)\n",
      "f (3, 2)\n",
      "f (5, 2)\n"
     ]
    }
   ],
   "source": [
    "import itertools\n",
    "def pred(a):\n",
    "    #print('predprod')\n",
    "    return (a[0]*a[1])>10\n",
    "\n",
    "product1=itertools.product([1,3,5,7],[2,4,6,8])\n",
    "for prod in product1:\n",
    "    print('p',prod,pred(prod))\n",
    "product2=itertools.product([1,3,5,7],[2,4,6,8])\n",
    "filtered=itertools.filterfalse(pred,product2)\n",
    "for prod in filtered:\n",
    "    print('f',prod)"
   ]
  },
  {
   "cell_type": "code",
   "execution_count": 17,
   "metadata": {},
   "outputs": [
    {
     "name": "stdout",
     "output_type": "stream",
     "text": [
      "7\n",
      "6\n",
      "7\n",
      "7\n",
      "6\n",
      "6\n",
      "6\n",
      "6\n",
      "7\n",
      "7\n",
      "6\n",
      "7\n"
     ]
    }
   ],
   "source": [
    "\n",
    "\n",
    "def GCD(a, b):\n",
    "    if a == 0: \n",
    "        return b, 0, 1\n",
    "    gcd, s, t = GCD(b%a, a)\n",
    "    y1 = s \n",
    "    x1 = t - (b//a) * s\n",
    "    return gcd, x1, y1\n",
    "\n",
    "def moddiff2(base, power,mod):\n",
    "    #print(prime,mod)\n",
    "    divisor=base**power\n",
    "    if mod==0:\n",
    "        #print('mod is zero, moddiff of a factor impossible')\n",
    "        return([])\n",
    "    toreturn=[]\n",
    "    #difflist=list(range(0,divisor*2))\n",
    "    #print(difflist)\n",
    "    \n",
    "    if base!=2 :\n",
    "        rangee=(divisor+1)//2\n",
    "    else:\n",
    "        rangee=(divisor)//2\n",
    "    #avelist=list(range(0,divisor))\n",
    "    #print(rangee)\n",
    "    for diffs in range(0,rangee):\n",
    "        #print('diffs',diffs)\n",
    "        for aves in range(0,divisor+1):\n",
    "        #for aves in avelist:\n",
    "            #print('aves',aves)\n",
    "            #print('aves',aves,'diffs',diffs,'aves^2',aves**2,'diffs^2',diffs**2,(aves**2-diffs**2),(aves**2-diffs**2)%divisor,divisor,mod)\n",
    "            if (aves-diffs)%base!=0 and (aves+diffs)%base!=0 and (aves**2-diffs**2)%divisor==mod:\n",
    "                toreturn.append(diffs)\n",
    "                if diffs!=0 and diffs!=divisor-diffs:\n",
    "                    toreturn.append(divisor-diffs)\n",
    "                #print(diffs,divisor-diffs)\n",
    "                #avelist.remove(aves)\n",
    "                break\n",
    "            '''\n",
    "            if diffs not in toreturn:\n",
    "                if aves%2!=diffs%2:\n",
    "                    if (aves**2-diffs**2)%divisor==mod:\n",
    "                        toreturn.append(diffs)\n",
    "                        difflist.remove(diffs)\n",
    "                        #print('difflist',difflist)\n",
    "                        #print('toreturn',toreturn)\n",
    "            '''\n",
    "    return toreturn  \n",
    "d=1522605027922533360535618378132637429718068114961380688657908494580122963258952897654000350692006139 \n",
    "d=17*29 \n",
    "moddiffdict=dict()\n",
    "'''\n",
    "for prime in primes:\n",
    "    print('prime',prime)\n",
    "    for power in powers:\n",
    "        print('power',power)\n",
    "        #for mod in range(1,prime**power):\n",
    "            #if abs(GCD(prime**power,mod)[0])==1:\n",
    "        moddiffdict[(prime,power,d%(prime**power))]=len(moddiff2(prime**power,d%(prime**power)))/(2*prime**power)\n",
    "'''\n",
    "\n",
    "'''\n",
    "for prime in [2,3,5,7,11,13]:#,17,19,23,29,31,37,41,43,47]:\n",
    "    powera=1\n",
    "    powerb=2\n",
    "    powerc=3\n",
    "    moddiffdict[(prime,powera)]=dict()\n",
    "    moddiffdict[(prime,powera)]['moddiff']=moddiff2(prime,powera,d%prime**powera)\n",
    "    moddiffdict[(prime,powera)]['mod']=d%prime**powera\n",
    "    moddiffdict[(prime,powerb)]=dict()\n",
    "    moddiffdict[(prime,powerb)]['moddiff']=moddiff2(prime,powerb,d%prime**powerb)\n",
    "    moddiffdict[(prime,powerb)]['mod']=d%prime**powerb\n",
    "    moddiffdict[(prime,powerc)]=dict()\n",
    "    moddiffdict[(prime,powerc)]['moddiff']=moddiff2(prime,powerc,d%prime**powerc)\n",
    "    moddiffdict[(prime,powerc)]['mod']=d%prime**powerc\n",
    "    #print((prime**powera)/len(moddiffdict[(prime,powera)]['moddiff']),(prime**powerb)/len(moddiffdict[(prime,powerb)]['moddiff']),(prime**powerc)/len(moddiffdict[(prime,powerc)]['moddiff']))\n",
    "    #print(moddiffdict[(prime,powera)]['moddiff'])\n",
    "    #print(moddiffdict[(prime,powerb)]['moddiff'])\n",
    "    #print(moddiffdict[(prime,powerc)]['moddiff'])\n",
    "    #print(len(moddiffdict[(prime,powera)]['moddiff']),len(moddiffdict[(prime,powerb)]['moddiff']),len(moddiffdict[(prime,powerc)]['moddiff']))\n",
    "    while (\n",
    "        (prime**powera)/len(moddiffdict[(prime,powera)]['moddiff'])+0.2<(prime**powerb)/len(moddiffdict[(prime,powerb)]['moddiff'])\n",
    "        or (prime**powerb)/len(moddiffdict[(prime,powerb)]['moddiff'])+0.2<(prime**powerc)/len(moddiffdict[(prime,powerc)]['moddiff'])\n",
    "    ):\n",
    "        #print(moddiffdict[(prime,powera)],moddiffdict[(prime,powerb)],moddiffdict[(prime,powerc)])\n",
    "        #moddiffdict[(prime,powera)]=moddiffdict[(prime,powerb)]\n",
    "        #moddiffdict[(prime,powerb)]=moddiffdict[(prime,powerc)]\n",
    "        powera=powerb\n",
    "        powerb=powerc\n",
    "        powerc=powerb+1\n",
    "        moddiffdict[(prime,powerc)]=dict()\n",
    "        moddiffdict[(prime,powerc)]['moddiff']=moddiff2(prime,powerc,d%prime**powerc)\n",
    "        moddiffdict[(prime,powerc)]['mod']=d%prime**powerc\n",
    "        #print(prime,powera,powerb,powerc,(prime**powera)/len(moddiffdict[(prime,powera)]['moddiff']),(prime**powerb)/len(moddiffdict[(prime,powerb)]['moddiff']),(prime**powerc)/len(moddiffdict[(prime,powerc)]['moddiff']))\n",
    "    #print(prime,powerc)\n",
    "    print((prime,powerc),len(moddiffdict[(prime,powerc)]['moddiff']),prime**powerc,moddiffdict[(prime,powerc)]['moddiff'],moddiffdict[(prime,powerc)]['mod'])\n",
    "'''    \n",
    "moddifflist= list(moddiff2(13,1,1))\n",
    "print(len(moddifflist))\n",
    "moddifflist= list(moddiff2(13,1,2))\n",
    "print(len(moddifflist))\n",
    "moddifflist= list(moddiff2(13,1,3))\n",
    "print(len(moddifflist))\n",
    "moddifflist= list(moddiff2(13,1,4))\n",
    "print(len(moddifflist))\n",
    "moddifflist= list(moddiff2(13,1,5))\n",
    "print(len(moddifflist))\n",
    "moddifflist= list(moddiff2(13,1,6))\n",
    "print(len(moddifflist))\n",
    "moddifflist= list(moddiff2(13,1,7))\n",
    "print(len(moddifflist))\n",
    "moddifflist= list(moddiff2(13,1,8))\n",
    "print(len(moddifflist))\n",
    "moddifflist= list(moddiff2(13,1,9))\n",
    "print(len(moddifflist))\n",
    "moddifflist= list(moddiff2(13,1,10))\n",
    "print(len(moddifflist))\n",
    "moddifflist= list(moddiff2(13,1,11))\n",
    "print(len(moddifflist))\n",
    "moddifflist= list(moddiff2(13,1,12))\n",
    "print(len(moddifflist))\n"
   ]
  }
 ],
 "metadata": {
  "kernelspec": {
   "display_name": "Python 3",
   "language": "python",
   "name": "python3"
  },
  "language_info": {
   "codemirror_mode": {
    "name": "ipython",
    "version": 3
   },
   "file_extension": ".py",
   "mimetype": "text/x-python",
   "name": "python",
   "nbconvert_exporter": "python",
   "pygments_lexer": "ipython3",
   "version": "3.9.18"
  }
 },
 "nbformat": 4,
 "nbformat_minor": 2
}
