{
 "cells": [
  {
   "cell_type": "code",
   "execution_count": 1,
   "metadata": {},
   "outputs": [
    {
     "name": "stdout",
     "output_type": "stream",
     "text": [
      "<class 'int'>\n"
     ]
    }
   ],
   "source": [
    "a=97687657537653765439876597606987069587647654756373754386549765987650860986\n",
    "print(type(a))"
   ]
  },
  {
   "cell_type": "code",
   "execution_count": 1,
   "metadata": {},
   "outputs": [
    {
     "data": {
      "text/plain": [
       "[0]"
      ]
     },
     "execution_count": 1,
     "metadata": {},
     "output_type": "execute_result"
    }
   ],
   "source": [
    "import GPUtil\n",
    "GPUtil.getAvailable()\n"
   ]
  },
  {
   "cell_type": "code",
   "execution_count": 27,
   "metadata": {},
   "outputs": [
    {
     "name": "stdout",
     "output_type": "stream",
     "text": [
      "p (1, 2) False\n",
      "p (1, 4) False\n",
      "p (1, 6) False\n",
      "p (1, 8) False\n",
      "p (3, 2) False\n",
      "p (3, 4) True\n",
      "p (3, 6) True\n",
      "p (3, 8) True\n",
      "p (5, 2) False\n",
      "p (5, 4) True\n",
      "p (5, 6) True\n",
      "p (5, 8) True\n",
      "p (7, 2) True\n",
      "p (7, 4) True\n",
      "p (7, 6) True\n",
      "p (7, 8) True\n",
      "f (1, 2)\n",
      "f (1, 4)\n",
      "f (1, 6)\n",
      "f (1, 8)\n",
      "f (3, 2)\n",
      "f (5, 2)\n"
     ]
    }
   ],
   "source": [
    "import itertools\n",
    "def pred(a):\n",
    "    #print('predprod')\n",
    "    return (a[0]*a[1])>10\n",
    "\n",
    "product1=itertools.product([1,3,5,7],[2,4,6,8])\n",
    "for prod in product1:\n",
    "    print('p',prod,pred(prod))\n",
    "product2=itertools.product([1,3,5,7],[2,4,6,8])\n",
    "filtered=itertools.filterfalse(pred,product2)\n",
    "for prod in filtered:\n",
    "    print('f',prod)"
   ]
  },
  {
   "cell_type": "code",
   "execution_count": 13,
   "metadata": {},
   "outputs": [
    {
     "name": "stdout",
     "output_type": "stream",
     "text": [
      "prime 2\n",
      "power 1\n",
      "power 2\n",
      "power 3\n",
      "power 4\n",
      "power 5\n",
      "power 6\n",
      "power 7\n",
      "prime 3\n",
      "power 1\n",
      "power 2\n",
      "power 3\n",
      "power 4\n",
      "power 5\n",
      "power 6\n",
      "power 7\n",
      "(2, 1, 1) 1.0\n",
      "(2, 2, 3) 0.5\n",
      "(2, 3, 3) 0.5\n",
      "(2, 4, 3) 0.25\n",
      "(2, 5, 3) 0.125\n",
      "(2, 6, 35) 0.125\n",
      "(2, 7, 35) 0.125\n",
      "(3, 1, 2) 0.6666666666666666\n",
      "(3, 2, 5) 0.2222222222222222\n",
      "(3, 3, 23) 0.14814814814814814\n",
      "(3, 4, 77) 0.09876543209876543\n",
      "(3, 5, 239) 0.09053497942386832\n",
      "(3, 6, 482) 0.0850480109739369\n",
      "(3, 7, 482) 0.08413351623228166\n"
     ]
    }
   ],
   "source": [
    "\n",
    "\n",
    "def GCD(a, b):\n",
    "    if a == 0: \n",
    "        return b, 0, 1\n",
    "    gcd, s, t = GCD(b%a, a)\n",
    "    y1 = s \n",
    "    x1 = t - (b//a) * s\n",
    "    return gcd, x1, y1\n",
    "\n",
    "def moddiff2(divisor,mod):\n",
    "    #print(prime,mod)\n",
    "    if mod==0:\n",
    "        #print('mod is zero, moddiff of a factor impossible')\n",
    "        return([])\n",
    "    toreturn=[]\n",
    "    difflist=list(range(0,divisor*2))\n",
    "    #print(difflist)\n",
    "    for aves in range(0,divisor):\n",
    "        #print('aves',aves)\n",
    "        for diffs in difflist:\n",
    "            #print('diffs',diffs)\n",
    "            if diffs not in toreturn:\n",
    "                if aves%2!=diffs%2:\n",
    "                    if (aves**2-diffs**2)%divisor==mod:\n",
    "                        toreturn.append(diffs)\n",
    "                        difflist.remove(diffs)\n",
    "                        #print('difflist',difflist)\n",
    "                        #print('toreturn',toreturn)\n",
    "    return toreturn  \n",
    "p=1093\n",
    "q=1223\n",
    "d=p*q    \n",
    "primes=[2,3]\n",
    "powers=[1,2,3,4,5,6,7]\n",
    "moddiffdict=dict()\n",
    "for prime in primes:\n",
    "    print('prime',prime)\n",
    "    for power in powers:\n",
    "        print('power',power)\n",
    "        #for mod in range(1,prime**power):\n",
    "            #if GCD(prime**power,mod)[0]==1:\n",
    "        moddiffdict[(prime,power,d%(prime**power))]=len(moddiff2(prime**power,d%(prime**power)))/(2*prime**power)\n",
    "for x in moddiffdict:\n",
    "    print(x,moddiffdict[x])"
   ]
  }
 ],
 "metadata": {
  "kernelspec": {
   "display_name": "Python 3",
   "language": "python",
   "name": "python3"
  },
  "language_info": {
   "codemirror_mode": {
    "name": "ipython",
    "version": 3
   },
   "file_extension": ".py",
   "mimetype": "text/x-python",
   "name": "python",
   "nbconvert_exporter": "python",
   "pygments_lexer": "ipython3",
   "version": "3.9.18"
  }
 },
 "nbformat": 4,
 "nbformat_minor": 2
}
