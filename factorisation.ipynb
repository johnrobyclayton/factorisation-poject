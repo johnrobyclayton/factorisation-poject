{
 "cells": [
  {
   "cell_type": "code",
   "execution_count": 2,
   "metadata": {},
   "outputs": [],
   "source": [
    "def GCD(a, b):\n",
    "    if a == 0: \n",
    "        return b, 0, 1\n",
    "    gcd, s, t = GCD(b%a, a)\n",
    "    y1 = s \n",
    "    x1 = t - (b//a) * s\n",
    "    return gcd, x1, y1\n"
   ]
  },
  {
   "cell_type": "code",
   "execution_count": 4,
   "metadata": {},
   "outputs": [],
   "source": [
    "def diophantine(a,b,c,d):\n",
    "      #a*x+b=c*y+d\n",
    "  #print(a,\"* x +\",b,\"=\",c,\"* y +\",d)\n",
    "  A=a\n",
    "  B=-c\n",
    "  C=d-b\n",
    "  #print('A',A,'B',B,'C',C)\n",
    "  #Step 1 \n",
    "  if A==0 and B==0:\n",
    "    if C == 0: \n",
    "      return(-1,0,0)#print(\"Infinite Solutions are possible\")\n",
    "    else:\n",
    "      return(-2,0,0)#print(\"Solution not possible\")\n",
    "\n",
    "  #Step 2 \n",
    "  gcd, x1, y1 = GCD(A,B)\n",
    "\n",
    "  #Step 3 and 4 \n",
    "  if (C % gcd == 0):\n",
    "    x = x1 * (C//gcd)\n",
    "    while(x<0):\n",
    "        x+=c\n",
    "    while(x>c):\n",
    "        x-=c\n",
    "    y = y1 * (C//gcd)\n",
    "    while(y<0):\n",
    "        y+=a\n",
    "    while(y>a):\n",
    "        y-=a\n",
    "    return(0,x,y)\n",
    "  else:\n",
    "    return(-2,0,0)#print(\"Solution not possible\") \n"
   ]
  },
  {
   "cell_type": "code",
   "execution_count": 1,
   "metadata": {},
   "outputs": [],
   "source": [
    "\"\"\"\n",
    "d is a composite number P*Q\n",
    "The modulus of a number d\n",
    "by some divisor p \n",
    "is the product of the modulus of each of the factors of d by divisor p\n",
    "d%p=((P%p)*(Q%p))%p\n",
    "Example:\n",
    "5*7=35\n",
    "5%3=2\n",
    "7%3=1\n",
    "35%3=2 \n",
    "(5%3)*(7%3)=(35%3)\n",
    "2*1=2\n",
    "For every modulus of a composite there are multiple products of values less than the modulus\n",
    "Example\n",
    "15\n",
    "    1   2   3   4   5   6   7   8   9   10  11  12  13  14\n",
    "1\t1\t2\t3\t4\t5\t6\t7\t8\t9\t10\t11\t12\t13\t14\n",
    "2\t2\t4\t6\t8\t10\t12\t14\t1\t3\t5\t7\t9\t11\t13\n",
    "3\t3\t6\t9\t12\t0\t3\t6\t9\t12\t0\t3\t6\t9\t12\n",
    "4\t4\t8\t12\t1\t5\t9\t13\t2\t6\t10\t14\t3\t7\t11\n",
    "5\t5\t10\t0\t5\t10\t0\t5\t10\t0\t5\t10\t0\t5\t10\n",
    "6\t6\t12\t3\t9\t0\t6\t12\t3\t9\t0\t6\t12\t3\t9\n",
    "7\t7\t14\t6\t13\t5\t12\t4\t11\t3\t10\t2\t9\t1\t8\n",
    "8\t8\t1\t9\t2\t10\t3\t11\t4\t12\t5\t13\t6\t14\t7\n",
    "9\t9\t3\t12\t6\t0\t9\t3\t12\t6\t0\t9\t3\t12\t6\n",
    "10\t10\t5\t0\t10\t5\t0\t10\t5\t0\t10\t5\t0\t10\t5\n",
    "11\t11\t7\t3\t14\t10\t6\t2\t13\t9\t5\t1\t12\t8\t4\n",
    "12\t12\t9\t6\t3\t0\t12\t9\t6\t3\t0\t12\t9\t6\t3\n",
    "13\t13\t11\t9\t7\t5\t3\t1\t14\t12\t10\t8\t6\t4\t2\n",
    "14\t14\t13\t12\t11\t10\t9\t8\t7\t6\t5\t4\t3\t2\t1\n",
    "\n",
    "Each modulus is in each row and each column that does not share any common factors with the modulus.\n",
    "0 is in the rows and columns that share factos with the divisor.\n",
    "\n",
    "1 arives from the following products:\n",
    "1x1, 8x2, 2x8, 4x4, 7x13, 13x7, 11x11, 14x14\n",
    "\n",
    "Symmetry provides for some groups of products:\n",
    "8x2, 2x8\n",
    "7x13, 13x7\n",
    "\n",
    "A prime divisor would have no common factors \n",
    "\n",
    "There are two lines of symmetry in the above table.\n",
    "The second line of summetry provides differences of factors.\n",
    "1,1 represents factors that are 15*n+1,15*m+1. These factors are different by 15(m-n)\n",
    "The same argument is the same for 11x11 and 14x14\n",
    "\n",
    "8x2 gives result for factors (15n+8)*(15n+2)\n",
    "The difference between these two values 15-8+2=9\n",
    "Similarly the difference between factors for 13x7 is 15-13+7=9\n",
    "This function returns the list of possible differences between factors given a divisor:d and a modulus:m\n",
    "Example:\n",
    "For a divisor 7 with a modulus 5 the factors that can produce the situation are returned by the following function\n",
    "\n",
    "3*4=12\n",
    "12%7=5\n",
    "4-3=1\n",
    "1%7=1\n",
    "19*1=19\n",
    "19%7=5\n",
    "19-1=18\n",
    "18%7=4\n",
    "2*13=26\n",
    "26%7=5\n",
    "13-2=11\n",
    "11%7=4\n",
    "Going the other way is a bit more difficult.\n",
    "Not every pair of numbers that have a difference mod 7 that is in the set {1, 3, 4, 6} will have a product\n",
    "that has a modulus of 5 when divided by 7 but every pair of numbers that produce a product that is equivalent \n",
    "5 (mod 7) will have a difference of 7n + {1, 3, 4, 6}.\n",
    "If (a * a+7n+C)%7 for any integer n, is equivalent to 5 then C is in {1, 3, 4, 6}\n",
    "Usage: factormoddiff(7,5) = {1, 3, 4, 6}\n",
    "\"\"\"\n",
    "def factormoddiff1(d,m):\n",
    "    toreturn=set()\n",
    "    \n",
    "    for i in range(1,d):\n",
    "        for j in range(1,d):\n",
    "            if (i*j)%d==m:\n",
    "                toreturn.add((d-i+j)%d)\n",
    "                toreturn.add((d-j+i)%d)\n",
    "    return toreturn"
   ]
  },
  {
   "cell_type": "code",
   "execution_count": 15,
   "metadata": {},
   "outputs": [
    {
     "name": "stdout",
     "output_type": "stream",
     "text": [
      "2\n",
      "1\n",
      "2 {1, 4}\n",
      "4 {0, 2, 3}\n",
      "1 {0, 1, 4}\n",
      "4 {0, 2, 3}\n",
      "17\n",
      "6\n",
      "2 {1, 4, 6, 9, 11, 14, 16, 19, 21, 24}\n",
      "14 {0, 5, 10, 12, 13, 15, 20}\n",
      "11 {0, 5, 9, 10, 15, 16, 20}\n",
      "4 {0, 3, 5, 10, 15, 20, 22}\n"
     ]
    }
   ],
   "source": [
    "p=1217\n",
    "q=2731\n",
    "d=p*q\n",
    "mod=5\n",
    "print(p%mod)\n",
    "print(q%mod)\n",
    "print(d%mod,factormoddiff(mod,d%mod))\n",
    "print(p**2%mod,factormoddiff(mod,p**2%mod))\n",
    "print(q**2%mod,factormoddiff(mod,q**2%mod))\n",
    "print(d**2%mod,factormoddiff(mod,d**2%mod))\n",
    "print(p%(mod**2))\n",
    "print(q%(mod**2))\n",
    "print(d%(mod**2),factormoddiff((mod**2),d%(mod**2)))\n",
    "print(p**2%(mod**2),factormoddiff((mod**2),p**2%(mod**2)))\n",
    "print(q**2%(mod**2),factormoddiff((mod**2),q**2%(mod**2)))\n",
    "print(d**2%(mod**2),factormoddiff((mod**2),d**2%(mod**2)))\n"
   ]
  },
  {
   "cell_type": "code",
   "execution_count": 47,
   "metadata": {},
   "outputs": [
    {
     "name": "stdout",
     "output_type": "stream",
     "text": [
      "[18, 34, 94, 162, 222, 290, 350, 418, 478, 494, 530, 546, 606, 674, 734, 802, 814, 862, 930, 990, 1006, 1042, 1058, 1118, 1186, 1234, 1246, 1314, 1374, 1442, 1502, 1518, 1554, 1570, 1630, 1698, 1758, 1826, 1886, 1954, 2014, 2030, 2066, 2082, 2142, 2210, 2270, 2338, 2398, 2466, 2526, 2542, 2578, 2594, 2654, 2722, 2782, 2850, 2862, 2910, 2978, 3026, 3038, 3054, 3090, 3106, 3166, 3234, 3282, 3294, 3362, 3422, 3490, 3550, 3566, 3602, 3618, 3678, 3746, 3806, 3874, 3934, 4002, 4050, 4062, 4078, 4114, 4130, 4142, 4190, 4258, 4318, 4386, 4446, 4514, 4574, 4590, 4626, 4642, 4702, 4770, 4830, 4898, 4910, 4958, 5026, 5086, 5102, 5138, 5154, 5214, 5282, 5330, 5342, 5410, 5470, 5538, 5598, 5614, 5650, 5666, 5726, 5794, 5854, 5922, 5982, 6050, 6110, 6126, 6162, 6178, 6238, 6306, 6366, 6434, 6494, 6562, 6622, 6638, 6674, 6690, 6750, 6818, 6878, 6946, 6958, 7006, 7074, 7122, 7134, 7150, 7186, 7202, 7262, 7330, 7378, 7390, 7458, 7518, 7586, 7646, 7662, 7698, 7714, 7774, 7842, 7902, 7970, 8030, 8098, 8158, 8174, 8210, 8226, 8286, 8354, 8414, 8482, 8542, 8610, 8670, 8686, 8722, 8738, 8798, 8866, 8926, 8994, 9006, 9054, 9122, 9182, 9198, 9234, 9250, 9262, 9310, 9378, 9426, 9438, 9506, 9566, 9634, 9694, 9710, 9746, 9762, 9822, 9890, 9950, 10018, 10078, 10146, 10206, 10222, 10258, 10274, 10334, 10402, 10462, 10530, 10590, 10658, 10718, 10734, 10770, 10786, 10846, 10914, 10974, 11042, 11054, 11102, 11170, 11230, 11246, 11282, 11298, 11358, 11426, 11474, 11486, 11554, 11614, 11682, 11742, 11758, 11794, 11810, 11870, 11938, 11998, 12066, 12126, 12194, 12242, 12254, 12270, 12306, 12322, 12334, 12382, 12450, 12510, 12578, 12638, 12706, 12766, 12782, 12818, 12834, 12894, 12962, 13022, 13090, 13102, 13150, 13218, 13278, 13294, 13330, 13346, 13358, 13406, 13474, 13522, 13534, 13602, 13662, 13730, 13790, 13806, 13842, 13858, 13918, 13986, 14046, 14114, 14174, 14242, 14302, 14318, 14354, 14370, 14430, 14498, 14558, 14626, 14686, 14754, 14814, 14830, 14866, 14882, 14942, 15010, 15070, 15138, 15150, 15198, 15266, 15326, 15342, 15378, 15394, 15454, 15522, 15570, 15582, 15650, 15710, 15778, 15838, 15854, 15890, 15906, 15966, 16034, 16094, 16162, 16222, 16290, 16350, 16366]\n",
      "341282\n",
      "13602\n",
      "344\n",
      "0.02099609375\n"
     ]
    }
   ],
   "source": [
    "#lis=sorted(factormoddiff1(2**14,(213611*554893)%2**14))\n",
    "print(lis)\n",
    "print(554893-213611)\n",
    "print(341282-20*2**14)\n",
    "#lis=[28, 38, 52, 158, 172, 182, 238, 248, 322, 368, 382, 388, 392, 448, 458, 532, 542, 578, 598, 602, 668, 718, 742, 752, 788, 808, 872, 928, 938, 952, 962, 998, 1018, 1082, 1138, 1148, 1162, 1172, 1228, 1292, 1312, 1348, 1358, 1372, 1382, 1438, 1502, 1522, 1558, 1568, 1592, 1642, 1708, 1712, 1732, 1768, 1778, 1852, 1862, 1918, 1922, 1928, 1942, 1988, 2062, 2072, 2128, 2138, 2152, 2258, 2272, 2282]\n",
    "print(len(lis))\n",
    "print(344/2**14)"
   ]
  },
  {
   "cell_type": "code",
   "execution_count": 25,
   "metadata": {},
   "outputs": [],
   "source": [
    "\n",
    "def factormoddiff(product,divisor):\n",
    "    toreturn=set()\n",
    "    comp1=set()\n",
    "    comp2=set()\n",
    "    comp1_2=set()\n",
    "    addedm1=set()\n",
    "    addedm2=set()\n",
    "    addmul=0\n",
    "    for addmul in range(0,divisor):\n",
    "        if (addmul*divisor+(product%divisor))<(divisor**2):\n",
    "            addedm1.add((addmul*divisor)+(product**1)%divisor)\n",
    "        if (addmul*divisor+(product**2%divisor))<(divisor**2):\n",
    "            addedm2.add((addmul*divisor)+(product**2)%divisor)\n",
    "    #print('addedm',sorted(addedm1))\n",
    "    #print('addedf',sorted(addedm2))\n",
    "    for i in range(1,divisor):\n",
    "        for j in range(1,divisor):\n",
    "            if (i*j) in addedm1:\n",
    "                comp1.add((i,j))\n",
    "            if (i*j) in addedm2:\n",
    "                comp2.add((i,j))\n",
    "    print(comp1)\n",
    "    print(comp2)\n",
    "    for element in comp1:\n",
    "        comp1_2.add(((element[0]**2)%divisor,(element[1]**2)%divisor))\n",
    "    print(comp1_2)\n",
    "    comp1_2xcomp2=comp1_2.intersection(comp2)\n",
    "    print(comp1_2xcomp2)\n",
    "    for element in comp1_2:\n",
    "        toreturn.add((divisor-element[0]+element[1])%divisor)\n",
    "        toreturn.add((divisor-element[1]+element[0])%divisor)\n",
    "    return toreturn\n",
    "        "
   ]
  },
  {
   "cell_type": "code",
   "execution_count": 26,
   "metadata": {},
   "outputs": [
    {
     "name": "stdout",
     "output_type": "stream",
     "text": [
      "p 1 q 7 d 7 d^2 5 d^3 2\n",
      "{3, 4, 5, 6, 7, 8}\n",
      "{(4, 10), (7, 1), (5, 8), (10, 4), (9, 2), (2, 9), (1, 7), (3, 6), (6, 3), (8, 5)}\n",
      "{(4, 4), (7, 7), (9, 3), (1, 5), (5, 1), (3, 9), (6, 10), (10, 6), (8, 2), (2, 8)}\n",
      "{(4, 4), (9, 3), (1, 5), (5, 1), (3, 9)}\n",
      "{(4, 4), (9, 3), (1, 5), (5, 1), (3, 9)}\n",
      "{0, 4, 5, 6, 7}\n"
     ]
    }
   ],
   "source": [
    "p=23\n",
    "q=29\n",
    "d=11\n",
    "print('p',p%d,'q',q%d,'d',(p*q)%d,'d^2',(p*q*p*q)%d,'d^3',((p*q)**3)%d)\n",
    "print (factormoddiff1(11,7))\n",
    "print(factormoddiff(p*q,d))\n",
    "\n"
   ]
  },
  {
   "cell_type": "code",
   "execution_count": 13,
   "metadata": {},
   "outputs": [
    {
     "name": "stdout",
     "output_type": "stream",
     "text": [
      "(0, 16, 14352)\n",
      "243990\n",
      "243990\n",
      "255255\n"
     ]
    }
   ],
   "source": [
    "\n"
   ]
  },
  {
   "cell_type": "code",
   "execution_count": 15,
   "metadata": {},
   "outputs": [
    {
     "name": "stdout",
     "output_type": "stream",
     "text": [
      "(0, 12, 174055)\n",
      "3307050\n",
      "3307050\n",
      "4849845\n"
     ]
    }
   ],
   "source": [
    "print(diophantine(255255,243990,19,5))\n",
    "print(255255*12+243990)\n",
    "print(19*174055+5)\n",
    "print(255255*19)\n"
   ]
  },
  {
   "cell_type": "code",
   "execution_count": 17,
   "metadata": {},
   "outputs": [
    {
     "name": "stdout",
     "output_type": "stream",
     "text": [
      "110003640\n",
      "106696590\n",
      "22.0\n",
      "28822275636736921\n"
     ]
    }
   ],
   "source": [
    "p=123456791\n",
    "q=233460431\n",
    "print(q-p)\n",
    "print(q-p-3307050)\n",
    "print((q-p-3307050)/4849845)\n",
    "print(p*q)"
   ]
  }
 ],
 "metadata": {
  "kernelspec": {
   "display_name": "Python 3",
   "language": "python",
   "name": "python3"
  },
  "language_info": {
   "codemirror_mode": {
    "name": "ipython",
    "version": 3
   },
   "file_extension": ".py",
   "mimetype": "text/x-python",
   "name": "python",
   "nbconvert_exporter": "python",
   "pygments_lexer": "ipython3",
   "version": "3.11.3"
  },
  "orig_nbformat": 4
 },
 "nbformat": 4,
 "nbformat_minor": 2
}
